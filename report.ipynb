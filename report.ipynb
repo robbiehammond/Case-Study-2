{
 "cells": [
  {
   "cell_type": "markdown",
   "metadata": {},
   "source": [
    "# CSDS 340 Case Study 2\n",
    "*Report by Prateek Dullur and Robbie Hammond*"
   ]
  },
  {
   "attachments": {},
   "cell_type": "markdown",
   "metadata": {},
   "source": [
    "# Introduction\n",
    "Insert introduction here. Probably want to include description of chosen algo here."
   ]
  },
  {
   "attachments": {},
   "cell_type": "markdown",
   "metadata": {},
   "source": [
    "# Data Preprocessing\n",
    "\n",
    "### Dealing with Course Over Ground\n",
    "\n",
    "Course over ground is expressed in degrees, which presents a problem when attempting to train a model on the data. The measurement of degrees (or radians) is modular, meaning that the magnitude of the measurement \"wraps around\" itself after a certain point (360 when measuring with degrees and $2\\pi$ when measuring with radians). This results in 359 degrees being very close to 1 degree, while 180 degrees is far from 0 degrees. Since the modular nature of the course over ground feature is not directly embedded into the data, we must make it such that the model is easily able to understand which measurements are close and which ones are far apart. The easiest way to do this is to translate the angular measurement into a point on the unit circle using trigonometry. This way, the distance between two course over ground measurements becomes mathematically simple and does not require additional context. For the example above, both 359 degrees and 1 degree will map to a point close to (1, 0), making the distance between them extremely small. On the other hand, 180 degrees will map to (-1, 0) and 0 degrees will map to (1, 0), which are very far apart in the context of the unit circle. \n",
    "\n",
    "Insert other data pre-processing/feature engineering here.\n"
   ]
  },
  {
   "attachments": {},
   "cell_type": "markdown",
   "metadata": {},
   "source": [
    "# Algorithm Selection\n",
    "\n",
    "Talk about algos tried and whatnot here. "
   ]
  },
  {
   "attachments": {},
   "cell_type": "markdown",
   "metadata": {},
   "source": [
    "# Deployment Recommendations\n",
    "\n",
    "Insert some recommendations here.\n"
   ]
  }
 ],
 "metadata": {
  "kernelspec": {
   "display_name": "Python 3.10.6 64-bit",
   "language": "python",
   "name": "python3"
  },
  "language_info": {
   "codemirror_mode": {
    "name": "ipython",
    "version": 3
   },
   "file_extension": ".py",
   "mimetype": "text/x-python",
   "name": "python",
   "nbconvert_exporter": "python",
   "pygments_lexer": "ipython3",
   "version": "3.10.6"
  },
  "orig_nbformat": 4,
  "vscode": {
   "interpreter": {
    "hash": "b0fa6594d8f4cbf19f97940f81e996739fb7646882a419484c72d19e05852a7e"
   }
  }
 },
 "nbformat": 4,
 "nbformat_minor": 2
}
